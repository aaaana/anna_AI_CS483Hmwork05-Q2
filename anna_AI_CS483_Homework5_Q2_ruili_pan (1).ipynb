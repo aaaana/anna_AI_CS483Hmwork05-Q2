{
 "cells": [
  {
   "cell_type": "code",
   "execution_count": 1,
   "id": "c5b12136",
   "metadata": {},
   "outputs": [
    {
     "data": {
      "image/png": "[encoded data removed]",
      "text/plain": [
       "<Figure size 432x288 with 1 Axes>"
      ]
     },
     "metadata": {
      "needs_background": "light"
     },
     "output_type": "display_data"
    }
   ],
   "source": [
    "import numpy as np\n",
    "import matplotlib.pyplot as plt\n",
    "from math import e\n",
    "\n",
    "# 适应度函数\n",
    "def fitness(x):\n",
    "    return e**(-x**2) +0.01*np.cos(200*x)\n",
    "\n",
    "\n",
    "# 个体类\n",
    "class indivdual:\n",
    "    def __init__(self):\n",
    "        self.x = 0  # 染色体编码\n",
    "        self.fitness = 0  # 适应度值\n",
    "\n",
    "    def __eq__(self, other):\n",
    "        self.x = other.x\n",
    "        self.fitness = other.fitness\n",
    "\n",
    "\n",
    "# 初始化种群\n",
    "def initPopulation(pop, N):\n",
    "    for i in range(N):\n",
    "        ind = indivdual()\n",
    "        ind.x = np.random.uniform(-2, 2)\n",
    "        ind.fitness = fitness(ind.x)\n",
    "        pop.append(ind)\n",
    "\n",
    "# 选择过程\n",
    "def selection(N):\n",
    "    # 种群中随机选择2个个体进行变异（这里没有用轮盘赌，直接用的随机选择）\n",
    "    return np.random.choice(N, 2)\n",
    "\n",
    "# 结合/交叉过程\n",
    "def crossover(parent1, parent2):\n",
    "    child1, child2 = indivdual(), indivdual()\n",
    "    child1.x = 0.9 * parent1.x + 0.1 * parent2.x\n",
    "    child2.x = 0.1 * parent1.x + 0.9 * parent2.x\n",
    "    child1.fitness = fitness(child1.x)\n",
    "    child2.fitness = fitness(child2.x)\n",
    "    return child1, child2\n",
    "\n",
    "\n",
    "# 变异过程\n",
    "def mutation(pop):\n",
    "    # 种群中随机选择一个进行变异\n",
    "    ind = np.random.choice(pop)\n",
    "    # 用随机赋值的方式进行变异\n",
    "    ind.x = np.random.uniform(-2, 2)\n",
    "    ind.fitness = fitness(ind.x)\n",
    "\n",
    "# 最终执行\n",
    "def implement():\n",
    "    # 种群中个体数量\n",
    "    N = 20\n",
    "    # 种群\n",
    "    POP = []\n",
    "    # 迭代次数\n",
    "    iter_N = 500\n",
    "    # 初始化种群\n",
    "    initPopulation(POP, N)\n",
    "\n",
    "# 进化过程\n",
    "    for it in range(iter_N):\n",
    "        a, b = selection(N)\n",
    "        if np.random.random() < 0.75:  # 以0.75的概率进行交叉结合\n",
    "            child1, child2 = crossover(POP[a], POP[b])\n",
    "            new = sorted([POP[a], POP[b], child1, child2], key=lambda ind: ind.fitness, reverse=True)\n",
    "            POP[a], POP[b] = new[0], new[1]\n",
    "\n",
    "        if np.random.random() < 0.1:  # 以0.1的概率进行变异\n",
    "            mutation(POP)\n",
    "\n",
    "        POP.sort(key=lambda ind: ind.fitness, reverse=True)\n",
    "\n",
    "    return POP\n",
    "\n",
    "\n",
    "pop = implement()\n",
    "\n",
    "\n",
    "def func(x):\n",
    "    return e**(-x**2) +0.01*np.cos(200*x)\n",
    "\n",
    "x = np.linspace(-2, 2, 500)\n",
    "y = func(x)\n",
    "scatter_x = np.array([ind.x for ind in pop])\n",
    "scatter_y = np.array([ind.fitness for ind in pop])\n",
    "plt.plot(x, y)\n",
    "plt.scatter(scatter_x, scatter_y, c='r')\n",
    "plt.show()"
   ]
  }
 ],
 "metadata": {
  "kernelspec": {
   "display_name": "Python 3 (ipykernel)",
   "language": "python",
   "name": "python3"
  },
  "language_info": {
   "codemirror_mode": {
    "name": "ipython",
    "version": 3
   },
   "file_extension": ".py",
   "mimetype": "text/x-python",
   "name": "python",
   "nbconvert_exporter": "python",
   "pygments_lexer": "ipython3",
   "version": "3.9.12"
  }
 },
 "nbformat": 4,
 "nbformat_minor": 5
}
